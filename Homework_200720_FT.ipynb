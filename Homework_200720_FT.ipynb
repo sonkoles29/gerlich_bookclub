{
 "cells": [
  {
   "cell_type": "code",
   "execution_count": null,
   "metadata": {},
   "outputs": [],
   "source": [
    "import pandas as pd\n",
    "import os\n",
    "import click"
   ]
  },
  {
   "cell_type": "code",
   "execution_count": null,
   "metadata": {},
   "outputs": [],
   "source": [
    "@click.command()\n",
    "@click.option('--input', prompt='Path to files to tidy:', help='Path to files to tidy up.')\n",
    "@click.option('--output', prompt='Path to save tidy files:', help='Path to save tidy files.')"
   ]
  },
  {
   "cell_type": "code",
   "execution_count": null,
   "metadata": {},
   "outputs": [],
   "source": [
    "def tidy_data (input, output):\n",
    "\tincoming = requests.get(input).content\n",
    "\tfor filename in os.listdir(incoming):\n",
    "    \t\tif filename.endswith(\".txt\"):\n",
    "        \t\t\twith open(filename) as f:\n",
    "                    df = pd.read_csv(f, sep = '\\t')\n",
    "                    df = pd.melt(df, id_vars = \"Absolute time\", var_name='trace')\n",
    "                    df['trace'] = df['trace'].str.replace('Trace', '').astype('float')\n",
    "                    df.to_csv(os.path.join(output, filename.split('.')[0] + '_tidy.csv'), index = False)"
   ]
  },
  {
   "cell_type": "code",
   "execution_count": null,
   "metadata": {},
   "outputs": [],
   "source": [
    "if __name__ == '__main__':\n",
    "    tidy_data()"
   ]
  }
 ],
 "metadata": {
  "kernelspec": {
   "display_name": "Python 3",
   "language": "python",
   "name": "python3"
  },
  "language_info": {
   "codemirror_mode": {
    "name": "ipython",
    "version": 3
   },
   "file_extension": ".py",
   "mimetype": "text/x-python",
   "name": "python",
   "nbconvert_exporter": "python",
   "pygments_lexer": "ipython3",
   "version": "3.7.6"
  }
 },
 "nbformat": 4,
 "nbformat_minor": 4
}
