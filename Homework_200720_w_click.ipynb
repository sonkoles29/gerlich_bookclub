{
 "cells": [
  {
   "cell_type": "code",
   "execution_count": null,
   "metadata": {},
   "outputs": [],
   "source": [
    "import pandas as pd\n",
    "import os\n",
    "import click"
   ]
  },
  {
   "cell_type": "code",
   "execution_count": null,
   "metadata": {},
   "outputs": [],
   "source": [
    "@click.command()\n",
    "@click.option('-i','--input', type=click.Path())\n",
    "@click.option('-o','--out_dir', type=click.Path())\n",
    "@click.option ('-s','--suffix')\n",
    "def change_suffix (input):\n",
    "    if input.endswith(\".txt\"):\n",
    "        input.replace ('.txt', '.csv')"
   ]
  },
  {
   "cell_type": "code",
   "execution_count": null,
   "metadata": {},
   "outputs": [],
   "source": [
    "def convert_files (input, out_dir):\n",
    "    for filename in os.listdir(input): \n",
    "        with open(filename) as f:\n",
    "            df = pd.read_csv(f, sep = '\\t')\n",
    "            df = pd.melt(df, id_vars = \"Absolute time\", var_name='trace')\n",
    "            df['trace'] = df['trace'].str.replace('Trace', '').astype('float')\n",
    "            df.to_csv(filename.split('.')[0] + '_tidy.csv', index = False)"
   ]
  },
  {
   "cell_type": "code",
   "execution_count": null,
   "metadata": {},
   "outputs": [],
   "source": [
    "if __name__ == '__main__':\n",
    "    convert_files()"
   ]
  }
 ],
 "metadata": {
  "kernelspec": {
   "display_name": "new_kernel",
   "language": "python",
   "name": "new_kernel"
  },
  "language_info": {
   "codemirror_mode": {
    "name": "ipython",
    "version": 3
   },
   "file_extension": ".py",
   "mimetype": "text/x-python",
   "name": "python",
   "nbconvert_exporter": "python",
   "pygments_lexer": "ipython3",
   "version": "3.7.6"
  }
 },
 "nbformat": 4,
 "nbformat_minor": 4
}
